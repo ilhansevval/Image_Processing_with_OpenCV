{
 "cells": [
  {
   "cell_type": "markdown",
   "id": "3a4f607c",
   "metadata": {},
   "source": [
    "# **Parking Space**"
   ]
  },
  {
   "cell_type": "markdown",
   "id": "868a4584",
   "metadata": {},
   "source": [
    "Bu projede otopark kamera kaydı görüntülerinden kaç aracın park ettiğinin ve kaç alanın boş olduğunun anlık olarak tespiti gerçekleştirilecektir.\n",
    "\n",
    "Parking Space Picker kısmında otoparktaki boş ve dolu park alanları işaretlenecektir ve bu alanların boş mu dolu mu olduğuna algoritma karar verecektir.\n",
    "\n",
    "Parking Space Counter ise algoritmanın çalışacağı kısımdır."
   ]
  },
  {
   "cell_type": "markdown",
   "id": "e6ae31cb",
   "metadata": {},
   "source": [
    "**Parking Space Picker**"
   ]
  },
  {
   "cell_type": "markdown",
   "id": "04bf08ad",
   "metadata": {},
   "source": [
    "First frame adından da anlaşılacağı üzere videonun ilk frame'idir.\n",
    "\n",
    "First frame kullanılarak park alanları işaretlenecektir.\n",
    "\n",
    "İşaretlenen alanların dolu mu boş mu olduğunu algoritma değerlendirecektir."
   ]
  },
  {
   "cell_type": "code",
   "execution_count": null,
   "id": "b8190c12",
   "metadata": {},
   "outputs": [],
   "source": [
    "import cv2\n",
    "import pickle #pickle kütüphanesi ile park poziyonları kaydedilir, görüntünün üzerine park pozisyonları otomatik bir şekilde işlenecektir."
   ]
  },
  {
   "cell_type": "code",
   "execution_count": null,
   "id": "78fc48db",
   "metadata": {},
   "outputs": [],
   "source": [
    "width = 70\n",
    "height = 20"
   ]
  },
  {
   "cell_type": "code",
   "execution_count": null,
   "id": "fe8adcea",
   "metadata": {},
   "outputs": [],
   "source": [
    "#read first frame\n",
    "try:\n",
    "    with open(\"Car_Park_Positions\",\"rb\") as f:\n",
    "            position_list = pickle.load(f)\n",
    "except:\n",
    "    position_list = []"
   ]
  },
  {
   "cell_type": "code",
   "execution_count": null,
   "id": "05eb0c1b",
   "metadata": {},
   "outputs": [],
   "source": [
    "def mouse_click(events, x, y, flags, params):\n",
    "    \n",
    "    if events == cv2.EVENT_LBUTTONDOWN:\n",
    "        position_list.append((x,y))\n",
    "        \n",
    "    if events == cv2.EVENT_RBUTTONDOWN:\n",
    "        \n",
    "        for i, positions in enumerate(position_list):\n",
    "            x1, y1 = positions\n",
    "            \n",
    "            if x1 < x < x1 + width and y1 < y < y1 + height:\n",
    "                position_list.pop(i)\n",
    "                \n",
    "    with open(\"Car_Park_Positions\",\"wb\") as f:\n",
    "        pickle.dump(position_list, f)\n",
    "    #işaretlenen alanlar kaydedilir."
   ]
  },
  {
   "cell_type": "markdown",
   "id": "b2df886e",
   "metadata": {},
   "source": [
    "mouse_click fonksiyonu kullanılarak görüntüye tıklandığında ilgili yere dikdörtgen atanır.\n",
    "\n",
    "Dikdörtgen içerisindeki park alanının dolu mu boş mu olduğu anlaşılmaya çalışılacaktır.\n",
    "\n",
    "Sol click kutu eklemek, sağ click yanlış bir yere kutu eklendiğinde silmek için kullanılır."
   ]
  },
  {
   "cell_type": "code",
   "execution_count": null,
   "id": "0ae9fd8f",
   "metadata": {},
   "outputs": [],
   "source": [
    "while True:\n",
    "    \n",
    "    #image read\n",
    "    frame = cv2.imread(r\"C:\\Users\\ilhan\\Desktop\\first_frame.png\")\n",
    "    \n",
    "    scale_percent = 220 # percent of original size\n",
    "    w = int(frame.shape[1] * scale_percent / 100)\n",
    "    h = int(frame.shape[0] * scale_percent / 100)\n",
    "    dim = (w, h)\n",
    " \n",
    "    # resize image\n",
    "    frame = cv2.resize(frame, dim, interpolation = cv2.INTER_AREA)\n",
    "    \n",
    "    #print(\"Position List: \",position_list)\n",
    "    #mouse'un sol tuşuna basıldığında, o noktanın x,y koordinatları yazdırılır. \n",
    "    \n",
    "    for positions in position_list:\n",
    "        cv2.rectangle(frame, positions, (positions[0] + width, positions[1] + height), (255,0,0), 2)\n",
    "    \n",
    "    cv2.imshow(\"First Frame\", frame)\n",
    "    cv2.setMouseCallback(\"First Frame\", mouse_click)\n",
    "    if cv2.waitKey(1) & 0xFF == ord('q'):\n",
    "            break\n",
    "            \n",
    "cv2.destroyAllWindows()"
   ]
  },
  {
   "cell_type": "markdown",
   "id": "494df372",
   "metadata": {},
   "source": [
    "**Parking Space Counter**"
   ]
  },
  {
   "cell_type": "code",
   "execution_count": null,
   "id": "cd7fe3fc",
   "metadata": {},
   "outputs": [],
   "source": [
    "import cv2\n",
    "import pickle\n",
    "import numpy as np"
   ]
  },
  {
   "cell_type": "code",
   "execution_count": null,
   "id": "0f446ba4",
   "metadata": {},
   "outputs": [],
   "source": [
    "def check_park_space(image):\n",
    "    space_counter = 0\n",
    "    \n",
    "    for position in position_list:\n",
    "        x, y = position\n",
    "        \n",
    "        crop_image = image[y: y + height, x:x + width]\n",
    "        count = cv2.countNonZero(crop_image)\n",
    "        \n",
    "        #print(\"count: \", count)\n",
    "        #dolu ve boş olan park alanlarının count değerine bakılarak threshold belirlenir.\n",
    "        \n",
    "        if count < 150:\n",
    "            color = (0, 255, 0)\n",
    "            space_counter += 1\n",
    "        else:\n",
    "            color = (0, 0, 255)\n",
    "    \n",
    "        cv2.rectangle(frame, position, (position[0] + width, position[1] + height), color, 2) \n",
    "        cv2.putText(frame, str(count), (x, y + height - 2), cv2.FONT_HERSHEY_PLAIN, 1,color,1)\n",
    "        \n",
    "    cv2.putText(frame, f\"Free Space Ratio: {space_counter}/{len(position_list)}\", (15,24), cv2.FONT_HERSHEY_PLAIN, 2,(0,255,255),4)"
   ]
  },
  {
   "cell_type": "code",
   "execution_count": null,
   "id": "cf3f578b",
   "metadata": {},
   "outputs": [],
   "source": [
    "#video capture\n",
    "capture = cv2.VideoCapture(r\"C:\\Users\\ilhan\\Desktop\\video.mp4\")"
   ]
  },
  {
   "cell_type": "code",
   "execution_count": null,
   "id": "9c08490c",
   "metadata": {},
   "outputs": [],
   "source": [
    "width = 70\n",
    "height = 20"
   ]
  },
  {
   "cell_type": "code",
   "execution_count": null,
   "id": "7c98d0af",
   "metadata": {},
   "outputs": [],
   "source": [
    "with open(\"Car_Park_Positions\",\"rb\") as f:\n",
    "            position_list = pickle.load(f)"
   ]
  },
  {
   "cell_type": "code",
   "execution_count": null,
   "id": "6b890019",
   "metadata": {},
   "outputs": [],
   "source": [
    "while True:\n",
    "    \n",
    "    ret, frame = capture.read()\n",
    "    \n",
    "    if ret == True:\n",
    "        \n",
    "        scale_percent = 220 # percent of original size\n",
    "        w = int(frame.shape[1] * scale_percent / 100)\n",
    "        h = int(frame.shape[0] * scale_percent / 100)\n",
    "        dim = (w, h)\n",
    "\n",
    "        # resize image\n",
    "        frame = cv2.resize(frame, dim, interpolation = cv2.INTER_AREA)\n",
    "        \n",
    "        #converting bgr to grayscale format\n",
    "        gray_frame = cv2.cvtColor(frame, cv2.COLOR_BGR2GRAY)\n",
    "        \n",
    "        #gaussian blur ile noise giderilir ve detaylar azaltılır.\n",
    "        blur_frame = cv2.GaussianBlur(gray_frame, (3,3), 1)\n",
    "        \n",
    "        #thresholding işlemi ile gereksiz detaylar ortadan kaldırılıp ana hatlar vurgulanır.\n",
    "        #bu projede ana hatlar dolu olan park alanlarıdır.\n",
    "        threshold_frame = cv2.adaptiveThreshold(blur_frame, 255, cv2.ADAPTIVE_THRESH_GAUSSIAN_C, cv2.THRESH_BINARY_INV, 25, 16)\n",
    "        \n",
    "        #threshold yapıldıktan bazı boş park alanlarının çizgileri giderilmemiştir.\n",
    "        #median blur ile bu pikseller arındırılarak detaylar ortadan kaldırılır.\n",
    "        median_frame = cv2.medianBlur(threshold_frame, 5)\n",
    "        \n",
    "        #dilation işlemi ile beyaz yerler kalınlaştırılır.\n",
    "        #threshold işlemi sonrası park alanları beyaz olduğundan bu yöntem tercih edilmiştir.\n",
    "        dilate_frame = cv2.dilate(median_frame, np.ones((3,3)), iterations = 1)\n",
    "        \n",
    "        check_park_space(dilate_frame)\n",
    "\n",
    "        cv2.imshow(\"Parking Space Counter\", frame)\n",
    "        #cv2.imshow(\"Gray Scale\", gray_frame)\n",
    "        #cv2.imshow(\"Gaussian Blur\", blur_frame)\n",
    "        #cv2.imshow(\"Thresholding\", threshold_frame)\n",
    "        #cv2.imshow(\"Median Blur\", median_frame)\n",
    "        #cv2.imshow(\"Dilation\", dilate_frame)\n",
    "\n",
    "        if cv2.waitKey(200) & 0xFF == ord('q'):\n",
    "                break\n",
    "                \n",
    "    else: break\n",
    "            \n",
    "cv2.destroyAllWindows()"
   ]
  }
 ],
 "metadata": {
  "kernelspec": {
   "display_name": "Python 3 (ipykernel)",
   "language": "python",
   "name": "python3"
  },
  "language_info": {
   "codemirror_mode": {
    "name": "ipython",
    "version": 3
   },
   "file_extension": ".py",
   "mimetype": "text/x-python",
   "name": "python",
   "nbconvert_exporter": "python",
   "pygments_lexer": "ipython3",
   "version": "3.9.12"
  }
 },
 "nbformat": 4,
 "nbformat_minor": 5
}
