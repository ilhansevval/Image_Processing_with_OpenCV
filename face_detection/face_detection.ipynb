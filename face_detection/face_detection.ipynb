{
  "cells": [
    {
      "cell_type": "markdown",
      "id": "3f58dd60",
      "metadata": {
        "id": "3f58dd60"
      },
      "source": [
        "# **Face Detection**"
      ]
    },
    {
      "cell_type": "markdown",
      "id": "abd3ce86",
      "metadata": {
        "id": "abd3ce86"
      },
      "source": [
        "Bu projede yüz tespiti gerçekleştirilecektir.\n",
        "\n",
        "3 video ile tespit yapılacaktır.\n",
        "\n",
        "Birinci videoda kişinin yüzü net bir şekilde görülmektedir.\n",
        "\n",
        "İkinci videoda maskeli bir kişi bulunmaktadır.\n",
        "\n",
        "Üçüncü videoda yana dönmüş iki kişi bulunmaktadır."
      ]
    },
    {
      "cell_type": "code",
      "execution_count": null,
      "id": "194c58a5",
      "metadata": {
        "id": "194c58a5"
      },
      "outputs": [],
      "source": [
        "import cv2\n",
        "import mediapipe as mp"
      ]
    },
    {
      "cell_type": "code",
      "execution_count": null,
      "id": "95bcfca0",
      "metadata": {
        "id": "95bcfca0"
      },
      "outputs": [],
      "source": [
        "#video capture\n",
        "capture = cv2.VideoCapture(r\"C:\\Users\\ilhan\\Desktop\\video2.mp4\")"
      ]
    },
    {
      "cell_type": "code",
      "execution_count": null,
      "id": "d949e84a",
      "metadata": {
        "id": "d949e84a"
      },
      "outputs": [],
      "source": [
        "media_pipe_face_detection = mp.solutions.face_detection"
      ]
    },
    {
      "cell_type": "markdown",
      "id": "f7698691",
      "metadata": {
        "id": "f7698691"
      },
      "source": [
        "face_detection modülü çağırılarak media_pipe_face_detection objesi yaratılmıştır."
      ]
    },
    {
      "cell_type": "code",
      "execution_count": null,
      "id": "e2466c50",
      "metadata": {
        "id": "e2466c50"
      },
      "outputs": [],
      "source": [
        "face_detection = media_pipe_face_detection.FaceDetection(0.2)"
      ]
    },
    {
      "cell_type": "markdown",
      "id": "c2b2deab",
      "metadata": {
        "id": "c2b2deab"
      },
      "source": [
        "media_pipe_face_detection objesinden FaceDetection methodu face_detection değişkenine aktarılmıştır."
      ]
    },
    {
      "cell_type": "markdown",
      "id": "3c487b1d",
      "metadata": {
        "id": "3c487b1d"
      },
      "source": [
        "FaceDetection methodu tune edilmesi gereken bir parametredir.\n",
        " \n",
        "Projeye göre uyarlanır. "
      ]
    },
    {
      "cell_type": "code",
      "execution_count": null,
      "id": "ef2e5244",
      "metadata": {
        "id": "ef2e5244"
      },
      "outputs": [],
      "source": [
        "#video read\n",
        "while True:\n",
        "    \n",
        "    ret, frame = capture.read()\n",
        "    \n",
        "    if ret == True:\n",
        "        \n",
        "        #converting bgr to rgb format\n",
        "        imgRGB = cv2.cvtColor(frame, cv2.COLOR_BGR2RGB)\n",
        "        \n",
        "        result = face_detection.process(imgRGB) #process methodu ile mediapipe'ta görüntü işlenir.\n",
        "        #print(result.detections)\n",
        "        #yüz üzerindeki belli noktaların x ve y değerlerini yazdırır.\n",
        "        #bu noktalar ile yüz etrafına bir bounding box çizdirilir.\n",
        "        \n",
        "        if result.detections:\n",
        "            \n",
        "             for id,detection in enumerate(result.detections):\n",
        "                    \n",
        "                    bb_coordinates = detection.location_data.relative_bounding_box\n",
        "                    #print(bb_coordinates)\n",
        "                    #kutunun minimum x,y değerleri, width, height bilgisi bulunur. \n",
        "                    #x,y değerlerine width ve height eklendiğinde kutu elde edilmiş olur.\n",
        "                    \n",
        "                    h, w, color = frame.shape\n",
        "                    bounding_box = int(bb_coordinates.xmin*w), int(bb_coordinates.ymin*h),int(bb_coordinates.width*w), int(bb_coordinates.height*h)\n",
        "                    #print(bounding_box)\n",
        "                    \n",
        "                    cv2.rectangle(frame, bounding_box, (0,255,255),2)\n",
        "        \n",
        "        cv2.imshow(\"Face Detection\",frame)\n",
        "        \n",
        "        if cv2.waitKey(50) & 0xFF == ord('q'):\n",
        "            break\n",
        "\n",
        "    else:\n",
        "        break\n",
        "\n",
        "capture.release()\n",
        "cv2.destroyAllWindows()"
      ]
    }
  ],
  "metadata": {
    "kernelspec": {
      "display_name": "Python 3 (ipykernel)",
      "language": "python",
      "name": "python3"
    },
    "language_info": {
      "codemirror_mode": {
        "name": "ipython",
        "version": 3
      },
      "file_extension": ".py",
      "mimetype": "text/x-python",
      "name": "python",
      "nbconvert_exporter": "python",
      "pygments_lexer": "ipython3",
      "version": "3.9.12"
    },
    "colab": {
      "provenance": []
    }
  },
  "nbformat": 4,
  "nbformat_minor": 5
}