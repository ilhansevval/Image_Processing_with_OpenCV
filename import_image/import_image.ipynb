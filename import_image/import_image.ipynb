{
  "cells": [
    {
      "cell_type": "markdown",
      "id": "d8cf9113",
      "metadata": {
        "id": "d8cf9113"
      },
      "source": [
        "# **Resmi İçe Aktarma**"
      ]
    },
    {
      "cell_type": "markdown",
      "id": "dfbe6237",
      "metadata": {
        "id": "dfbe6237"
      },
      "source": [
        "Görüntünün işlenebilmesi için bir veri tipi içerisinde depolanması gerekir. Bu işlem görüntünün okunmasıdır.\n",
        "\n",
        "Görselin nasıl okunacağı, görüntüleneceği ve kaydedileceğinden bahsedilecektir."
      ]
    },
    {
      "cell_type": "code",
      "execution_count": null,
      "id": "55c8fe44",
      "metadata": {
        "id": "55c8fe44"
      },
      "outputs": [],
      "source": [
        "import cv2 #cv -> computer vision'ın kısaltmasıdır.\n",
        "           #cv2 ile opencv kütüphanesi import edilir."
      ]
    },
    {
      "cell_type": "code",
      "execution_count": null,
      "id": "fbf35e42",
      "metadata": {
        "id": "fbf35e42"
      },
      "outputs": [],
      "source": [
        "#içe aktarma\n",
        "img = cv2.imread(r\"C:\\Users\\ilhan\\Desktop\\messi.jpg\",0)"
      ]
    },
    {
      "cell_type": "markdown",
      "id": "4bf6451e",
      "metadata": {
        "id": "4bf6451e"
      },
      "source": [
        "**imread -> image read anlamına gelir.**\n",
        "\n",
        "**imread methoduyla görseller içeri aktarılır.**\n",
        "\n",
        "Görsel renkli olduğundan rgb olmak üzere üç kanaldan oluşur.\n",
        "\n",
        "0 yazıldığında, görsel grayscale olarak içeri aktarılır.\n",
        "\n",
        "Grayscale, siyah ve beyaz arasında yer alan tüm gri tonlarını kapsamaktadır.\n",
        "\n",
        "Grayscale yapılarak görsel üç kanaldan tek kanala düşürülür. Böylelikle sistem daha hızlı çalışacaktır."
      ]
    },
    {
      "cell_type": "code",
      "execution_count": null,
      "id": "77ef2184",
      "metadata": {
        "id": "77ef2184",
        "outputId": "d20e6ccb-5811-4a5b-8cc6-3a220660da4e"
      },
      "outputs": [
        {
          "data": {
            "text/plain": [
              "-1"
            ]
          },
          "execution_count": 3,
          "metadata": {},
          "output_type": "execute_result"
        }
      ],
      "source": [
        "#görselleştirme\n",
        "cv2.imshow(\"Ilk Gorsel\", img); cv2.waitKey(0); cv2.destroyAllWindows(); cv2.waitKey(1)"
      ]
    },
    {
      "cell_type": "markdown",
      "id": "380e60c3",
      "metadata": {
        "id": "380e60c3"
      },
      "source": [
        "**imshow parametresi ile görseller gösterilir.**\n",
        "\n",
        "imshow parametresi hem opencv hem de matplotlib kütüphanesinde mevcuttur."
      ]
    },
    {
      "cell_type": "code",
      "execution_count": null,
      "id": "30c81545",
      "metadata": {
        "id": "30c81545",
        "outputId": "50a83b18-3152-457d-93ba-a7a354a10d89"
      },
      "outputs": [
        {
          "data": {
            "text/plain": [
              "array([[ 42,  47,  50, ...,  55,  53,  53],\n",
              "       [ 45,  49,  53, ...,  59,  58,  58],\n",
              "       [ 48,  54,  59, ...,  65,  64,  63],\n",
              "       ...,\n",
              "       [114, 107, 102, ..., 106, 110, 110],\n",
              "       [118, 120, 111, ..., 111, 117, 117],\n",
              "       [112, 120, 109, ..., 110, 105, 105]], dtype=uint8)"
            ]
          },
          "execution_count": 4,
          "metadata": {},
          "output_type": "execute_result"
        }
      ],
      "source": [
        "img"
      ]
    },
    {
      "cell_type": "markdown",
      "id": "58ba319e",
      "metadata": {
        "id": "58ba319e"
      },
      "source": [
        "Bu arraydeki sayılar her bir pikselin sahip olduğu genlik, piksel değeridir.\n",
        "\n",
        "Her bir piksel 8 bitten oluşur.\n",
        "\n",
        "Renkli bir görsel olduğu için min, max 255 0 aralığına sahiptir."
      ]
    },
    {
      "cell_type": "code",
      "execution_count": null,
      "id": "c052020a",
      "metadata": {
        "id": "c052020a",
        "outputId": "3930df30-351e-411b-da13-49b0ab950b78"
      },
      "outputs": [
        {
          "data": {
            "text/plain": [
              "(280, 450)"
            ]
          },
          "execution_count": 5,
          "metadata": {},
          "output_type": "execute_result"
        }
      ],
      "source": [
        "img.shape"
      ]
    },
    {
      "cell_type": "markdown",
      "id": "a0914766",
      "metadata": {
        "id": "a0914766"
      },
      "source": [
        "Görsel 280x450 boyutundadır.\n",
        "\n",
        "Array'in her bir elemanı pikseldir."
      ]
    },
    {
      "cell_type": "code",
      "execution_count": null,
      "id": "da280e73",
      "metadata": {
        "id": "da280e73",
        "outputId": "cb271e91-2cad-45cf-e42c-e9bb1dc1be61"
      },
      "outputs": [
        {
          "data": {
            "text/plain": [
              "126000"
            ]
          },
          "execution_count": 6,
          "metadata": {},
          "output_type": "execute_result"
        }
      ],
      "source": [
        "img.size"
      ]
    },
    {
      "cell_type": "markdown",
      "id": "3bff6982",
      "metadata": {
        "id": "3bff6982"
      },
      "source": [
        "Bu görselde 126000 tane piksel bulunmaktadır."
      ]
    },
    {
      "cell_type": "code",
      "execution_count": null,
      "id": "c1662275",
      "metadata": {
        "id": "c1662275",
        "outputId": "5914b28f-b49b-474a-d2cb-f873a99a252a"
      },
      "outputs": [
        {
          "data": {
            "text/plain": [
              "dtype('uint8')"
            ]
          },
          "execution_count": 7,
          "metadata": {},
          "output_type": "execute_result"
        }
      ],
      "source": [
        "img.dtype"
      ]
    },
    {
      "cell_type": "markdown",
      "id": "bc2ce901",
      "metadata": {
        "id": "bc2ce901"
      },
      "source": [
        "OpenCV'de görüntüler uint8 type'ındadır."
      ]
    },
    {
      "cell_type": "code",
      "execution_count": null,
      "id": "65c3eb0b",
      "metadata": {
        "id": "65c3eb0b"
      },
      "outputs": [],
      "source": [
        "cv2.imshow(\"Ilk Gorsel\", img)\n",
        "\n",
        "k = cv2.waitKey(0) & 0xFF\n",
        "\n",
        "if k == 27:\n",
        "    cv2.destroyAllWindows()\n",
        "    \n",
        "elif k == ord('s'):\n",
        "    cv2.imwrite(\"messi_gray.png\",img)\n",
        "    cv2.destroyAllWindows()"
      ]
    },
    {
      "cell_type": "markdown",
      "id": "937083d3",
      "metadata": {
        "id": "937083d3"
      },
      "source": [
        "**waitkey methodu kullanılarak klavye ile bağlantı kurulur.**\n",
        "\n",
        "27 klavyedeki espace(esc) tuşunun sayısal karşılığıdır.\n",
        "\n",
        "k 27 olduğunda, klavyeden esc tuşuna basıldığında **destroyAllWindows methoduyla tüm pencereler kapatılır.**\n",
        "\n",
        "Klavyeden s harfine basıldığında görsel **imwrite** methoduyla **kaydedilecektir.**"
      ]
    }
  ],
  "metadata": {
    "colab": {
      "collapsed_sections": [],
      "provenance": []
    },
    "kernelspec": {
      "display_name": "Python 3 (ipykernel)",
      "language": "python",
      "name": "python3"
    },
    "language_info": {
      "codemirror_mode": {
        "name": "ipython",
        "version": 3
      },
      "file_extension": ".py",
      "mimetype": "text/x-python",
      "name": "python",
      "nbconvert_exporter": "python",
      "pygments_lexer": "ipython3",
      "version": "3.9.12"
    }
  },
  "nbformat": 4,
  "nbformat_minor": 5
}