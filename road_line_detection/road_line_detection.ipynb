{
 "cells": [
  {
   "cell_type": "markdown",
   "id": "c0e96db8",
   "metadata": {},
   "source": [
    "# **Road Line Detection**"
   ]
  },
  {
   "cell_type": "markdown",
   "id": "bd25d9d7",
   "metadata": {},
   "source": [
    "Görüntü işleme klasiklerinden olan çizgi tespiti gerçekleştirilecektir.\n",
    "\n",
    "Görüntüler çizgilerden ve köşelerden oluşur. \n",
    "\n",
    "Bu yüzden çizgi tespiti oldukça önemlidir.\n",
    "\n",
    "Gerçek hayat projesi olarak yolda bulunan şeritlerin tespiti gerçekleştirilecektir.\n",
    "\n",
    "Otonom araçlarda en temel kurallar aracın gittiği şeridi tespit edebilmesi, şerit değiştirebilmesi ve diğer araçların hangi şeritlerden gittiğini kestirebilmesidir.\n",
    "\n",
    "Bu nedenle yolda bulunan şeritlerin tespit edilmesi önemli bir konudur.\n",
    "\n",
    "Yol kenarlarında bulunan çalılar bir sıra halinde diziliyse algoritma tarafından bir şerit olarak algılanabilir.\n",
    "\n",
    "Bu durum önlenmeye çalışılacaktır.\n",
    "\n",
    "Yolda uzun bir çizgi tespit edilmeye çalışıldığında etrafta bulunan çalılar, kum tepeleri de tespit edilir, kısa bir çizgi tespit edilmeye çalışıldığında yolda bulunan dönüşler kaçırılır.\n",
    "\n",
    "Bu trade off'un önlenmesi için parametrelerin uygun bir şekilde ayarlanması gerekmektedir."
   ]
  },
  {
   "cell_type": "code",
   "execution_count": null,
   "id": "36b7df5c",
   "metadata": {},
   "outputs": [],
   "source": [
    "import cv2\n",
    "import numpy as np"
   ]
  },
  {
   "cell_type": "markdown",
   "id": "3fb7074a",
   "metadata": {},
   "source": [
    "Videoda bulunan önemli bölgelerin alınması için maskeleme işlemi gerçekleştirilir."
   ]
  },
  {
   "cell_type": "code",
   "execution_count": null,
   "id": "371c9c98",
   "metadata": {},
   "outputs": [],
   "source": [
    "def region_of_interest(image, vertices):\n",
    "    mask = np.zeros_like(image) #beyaz kısım maskenin seçileceği kısımdır.\n",
    "    match_mask_color = 255  #255'e beyaza karşılık gelir.\n",
    "    \n",
    "    #fillPoly methodu maskeyi oluşturarak kullanılabilir hale getirir.\n",
    "    cv2.fillPoly(mask, vertices, match_mask_color)\n",
    "    masked_image = cv2.bitwise_and(image, mask)\n",
    "    return masked_image"
   ]
  },
  {
   "cell_type": "code",
   "execution_count": null,
   "id": "0e56bdb2",
   "metadata": {},
   "outputs": [],
   "source": [
    "def draw_lines(image, lines):\n",
    "    \n",
    "    image = np.copy(image)\n",
    "    blank_image = np.zeros((image.shape[0], image.shape[1],3), dtype = np.uint8)\n",
    "    \n",
    "    for line in lines:\n",
    "        for x1,y1,x2,y2 in line:\n",
    "            cv2.line(blank_image, (x1,y1), (x2,y2), (0,255,0), thickness = 10)\n",
    "            \n",
    "    image = cv2.addWeighted(image, 0.8, blank_image, 1, 0.0)\n",
    "    \n",
    "    return image"
   ]
  },
  {
   "cell_type": "code",
   "execution_count": null,
   "id": "e2e0c3bc",
   "metadata": {},
   "outputs": [],
   "source": [
    "def process(image):\n",
    "    height, width = frame.shape[0], frame.shape[1]\n",
    "    \n",
    "    region_of_interest_vertices = [(0, height), (width, height), (width, 255)]\n",
    "    #maskeleme yapmak için kullanılacaktır.\n",
    "    #projeye göre maskelenecek alan değişiklik göstereceğinden tune edilmesi gerekir.\n",
    "    \n",
    "    #converting bgr to grayscacle format\n",
    "    gray_scale_image = cv2.cvtColor(image, cv2.COLOR_BGR2GRAY)\n",
    "    \n",
    "    #canny methodu ile kenarlar bulunur.\n",
    "    #parametreler tune edilerek kenarların tespiti gerçekleşir.\n",
    "    #burada sadece yol üzerindeki şeritlerin değil, yol kenarında bulunan ağaçların, çalıların da kenarlarının tespiti gerçekleşir.\n",
    "    canny_image = cv2.Canny(gray_scale_image, 250, 120)\n",
    "    \n",
    "    #maskeleme fonksiyonu çağrılır.\n",
    "    cropped_image = region_of_interest(canny_image, np.array([region_of_interest_vertices], np.int32))\n",
    "    \n",
    "    #HoughLinesP methodu ile düz çizgiler tespit edilir.\n",
    "    #minLineLength tune edilmesi gereken bir parametredir, projeye göre değişiklik gösterir.\n",
    "    #maxLineGap -> gap açıklık demektir. açıklık belirlenerek iki farklı line olduğu tespit edilir.\n",
    "    lines = cv2.HoughLinesP(cropped_image, rho = 2, theta = np.pi/180, threshold = 200, lines = np.array([]),minLineLength = 150, maxLineGap = 2)\n",
    "    #print(lines)\n",
    "    \n",
    "    image_with_cropped_image_line = draw_lines(image, lines)\n",
    "    \n",
    "    return image_with_cropped_image_line"
   ]
  },
  {
   "cell_type": "code",
   "execution_count": null,
   "id": "b3c3690a",
   "metadata": {},
   "outputs": [],
   "source": [
    "capture = cv2.VideoCapture(r\"C:\\Users\\ilhan\\Desktop\\video.mp4\")"
   ]
  },
  {
   "cell_type": "code",
   "execution_count": null,
   "id": "9b22fc9a",
   "metadata": {},
   "outputs": [],
   "source": [
    "#video read\n",
    "while True:\n",
    "    \n",
    "    ret, frame = capture.read()\n",
    "    \n",
    "    \n",
    "    \n",
    "    if ret == True:\n",
    "        \n",
    "        frame = process(frame)\n",
    "\n",
    "        cv2.imshow(\"Road Line Detection\",frame)\n",
    "        \n",
    "        if cv2.waitKey(50) & 0xFF == ord('q'):\n",
    "            break\n",
    "\n",
    "    else:\n",
    "        break\n",
    "        \n",
    "capture.release()\n",
    "cv2.destroyAllWindows()"
   ]
  }
 ],
 "metadata": {
  "kernelspec": {
   "display_name": "Python 3 (ipykernel)",
   "language": "python",
   "name": "python3"
  },
  "language_info": {
   "codemirror_mode": {
    "name": "ipython",
    "version": 3
   },
   "file_extension": ".py",
   "mimetype": "text/x-python",
   "name": "python",
   "nbconvert_exporter": "python",
   "pygments_lexer": "ipython3",
   "version": "3.9.12"
  }
 },
 "nbformat": 4,
 "nbformat_minor": 5
}
