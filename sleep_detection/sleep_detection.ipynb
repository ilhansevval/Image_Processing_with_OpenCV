{
 "cells": [
  {
   "cell_type": "markdown",
   "id": "89cab521",
   "metadata": {},
   "source": [
    "# **Sleep Detection**"
   ]
  },
  {
   "cell_type": "markdown",
   "id": "2d451d99",
   "metadata": {},
   "source": [
    "Göz kırpma sayıları anlaşılmaya çalışılacaktır.\n",
    "\n",
    "Göz kırpma sayıları ve gözün kapalı kalma süresi değerlendirilerek uyku tespiti yapılacaktır."
   ]
  },
  {
   "cell_type": "code",
   "execution_count": null,
   "id": "628a8c7f",
   "metadata": {},
   "outputs": [],
   "source": [
    "import cv2\n",
    "import cvzone\n",
    "from cvzone.FaceMeshModule import FaceMeshDetector\n",
    "from cvzone.PlotModule import LivePlot"
   ]
  },
  {
   "cell_type": "code",
   "execution_count": null,
   "id": "27826065",
   "metadata": {},
   "outputs": [],
   "source": [
    "cap = cv2.VideoCapture(r\"C:\\Users\\ilhan\\Desktop\\video1.mp4\")\n",
    "detector = FaceMeshDetector()\n",
    "plotY = LivePlot(540, 360, [10, 60])"
   ]
  },
  {
   "cell_type": "code",
   "execution_count": null,
   "id": "da2dd536",
   "metadata": {},
   "outputs": [],
   "source": [
    "#id list ile face mesh işlemi yapılırken göze odaklanılır.\n",
    "#bu yüzden gözdeki noktaların idleri alınmıştır.\n",
    "#sol göz ile işlem yapılmıştır.\n",
    "id_list = [22, 23, 24, 26, 110, 157, 158, 159, 160, 161, 130, 243]\n",
    "color = (0,0,255)\n",
    "ratio_list = []\n",
    "counter = 0\n",
    "blink_counter = 0"
   ]
  },
  {
   "cell_type": "code",
   "execution_count": null,
   "id": "1ef5a063",
   "metadata": {},
   "outputs": [],
   "source": [
    "while True:\n",
    "    ret, frame = cap.read()\n",
    "    \n",
    "    #yüzdeki mesh pointler tespit edilir.\n",
    "    frame, faces = detector.findFaceMesh(frame, draw = False)\n",
    "    \n",
    "    if ret == True:\n",
    "    \n",
    "        if faces:\n",
    "            face = faces[0]\n",
    "\n",
    "            for id in id_list:\n",
    "                cv2.circle(frame, face[id], 5, color, cv2.FILLED)\n",
    "            #sol gözün etrafındaki mesh pointler tespit edilmiştir.\n",
    "            \n",
    "            #gözün kapalı olup olmadığının tespit edilmesi için uç noktalarının idleri alınır.\n",
    "            left_up = face[159]\n",
    "            left_down = face[23]\n",
    "            left_left = face[130]\n",
    "            left_right = face[243]\n",
    "            \n",
    "            #uç noktaların yatay ve dikey olarak farkları alınır.\n",
    "            length_vertical, _ = detector.findDistance(left_up, left_down)\n",
    "            length_horizontal, _ = detector.findDistance(left_left, left_right)\n",
    "            \n",
    "            #uç noktalar arasına yatay ve dikey olmak üzere 2 tane yeşil bir line çizilir.\n",
    "            cv2.line(frame, left_up, left_down, (0,255,0),3)\n",
    "            cv2.line(frame, left_left, left_right, (0,255,0),3)\n",
    "            \n",
    "            #yatay ve dikey uzaklıklar arasındaki orana bakılarak gözün açık ya da kapalı olduğu anlaşılacaktır.\n",
    "            ratio = int((length_vertical/length_horizontal)*100)\n",
    "            ratio_list.append(ratio)\n",
    "            #print(ratio_list)\n",
    "            \n",
    "            #ratio_list'in uzunluğu 3'ten fazla 0. indeksi listeden atar.\n",
    "            #bu durumda ratio_list tüm değerlerin ortalaması değil de 3 değerin ortalamasına göre hesaplanır.\n",
    "            #her adımda bir sonraki indeks ile devam eder.\n",
    "            #eğer bu koşul belirlenmezse liste çok dolar ve hiçbir zaman thresholdun altına düşmez.\n",
    "            if len(ratio_list)>3:\n",
    "                ratio_list.pop(0)       \n",
    "            \n",
    "            #oranın ortalaması alınır.\n",
    "            ratio_avg = sum(ratio_list)/len(ratio_list)\n",
    "            #print(ratio_avg)\n",
    "            \n",
    "            #ortalamaya göre bir threshold belirlenir ve bu threshold'dan küçük olduğunda göz kapalı durumdadır.\n",
    "            #göz kapandığında counter artırılır.\n",
    "            if ratio_avg < 35 and counter == 0:\n",
    "                blink_counter += 1\n",
    "                color = (0,255,0)\n",
    "                counter = 1\n",
    "            if counter != 0:\n",
    "                counter += 1\n",
    "                if counter > 10:\n",
    "                    counter = 0\n",
    "                    color = (0,0,255)\n",
    "\n",
    "            cvzone.putTextRect(frame, f'Blink Count: {blink_counter}', (50,100), colorR = color)\n",
    "\n",
    "            img_plot = plotY.update(ratio_avg, color)\n",
    "            frame = cv2.resize(frame, (640,360))\n",
    "            img_stack = cvzone.stackImages([frame, img_plot], 2,1)\n",
    "\n",
    "        cv2.imshow(\"Sleep Detection\", img_stack)\n",
    "        \n",
    "        if cv2.waitKey(50) & 0xFF == ord('q'):\n",
    "            break\n",
    "            \n",
    "    else:break\n",
    "    \n",
    "cap.release()\n",
    "cv2.destroyAllWindows()"
   ]
  }
 ],
 "metadata": {
  "kernelspec": {
   "display_name": "Python 3 (ipykernel)",
   "language": "python",
   "name": "python3"
  },
  "language_info": {
   "codemirror_mode": {
    "name": "ipython",
    "version": 3
   },
   "file_extension": ".py",
   "mimetype": "text/x-python",
   "name": "python",
   "nbconvert_exporter": "python",
   "pygments_lexer": "ipython3",
   "version": "3.9.12"
  }
 },
 "nbformat": 4,
 "nbformat_minor": 5
}
