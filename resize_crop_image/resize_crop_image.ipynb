{
  "cells": [
    {
      "cell_type": "markdown",
      "id": "ab511556",
      "metadata": {
        "id": "ab511556"
      },
      "source": [
        "# **Resmi Yeniden Boyutlandırma ve Kırpma**"
      ]
    },
    {
      "cell_type": "markdown",
      "id": "0f106989",
      "metadata": {
        "id": "0f106989"
      },
      "source": [
        "Görüntü işleme çalışılırken görselin boyutu bilinmeli ve eğer çok büyükse küçültülmelidir.\n",
        "\n",
        "Örnek vermek gerekirse 1080x1080 boyutunda bir görsel ile çalışmak yerine 320x320 boyutunda bir görsel ile çalışmak memory ve performans açısından daha iyi olacaktır.\n",
        "\n",
        "Deep learning ile çalışırken modelin inputları sadece belli boyuttaki görselleri kabul edebilir.\n",
        "\n",
        "Bu durumda elde bulunan görsellerin modele sokulabilmesi için reshape yapılması gerekir."
      ]
    },
    {
      "cell_type": "code",
      "execution_count": null,
      "id": "fc501f37",
      "metadata": {
        "id": "fc501f37"
      },
      "outputs": [],
      "source": [
        "import cv2"
      ]
    },
    {
      "cell_type": "code",
      "execution_count": null,
      "id": "13d50525",
      "metadata": {
        "id": "13d50525"
      },
      "outputs": [],
      "source": [
        "#image read\n",
        "img = cv2.imread(r\"C:\\Users\\ilhan\\Desktop\\test_image.png\",0)"
      ]
    },
    {
      "cell_type": "markdown",
      "id": "57dfa4ed",
      "metadata": {
        "id": "57dfa4ed"
      },
      "source": [
        "Görsel gray scale olarak okunacaktır."
      ]
    },
    {
      "cell_type": "code",
      "execution_count": null,
      "id": "9ab9f400",
      "metadata": {
        "id": "9ab9f400",
        "outputId": "5eaafbca-1c13-4cf2-d6cd-a47e1458a7b5"
      },
      "outputs": [
        {
          "name": "stdout",
          "output_type": "stream",
          "text": [
            "Görselin boyutu (512, 512)\n"
          ]
        }
      ],
      "source": [
        "print(\"Görselin boyutu\",img.shape)"
      ]
    },
    {
      "cell_type": "markdown",
      "id": "ddbce08e",
      "metadata": {
        "id": "ddbce08e"
      },
      "source": [
        "Bir görseli yeniden boyutlandırmak için öncelikle orijinal boyutu bilinmelidir.\n",
        "\n",
        "Görsel 512x512 boyutundadır."
      ]
    },
    {
      "cell_type": "code",
      "execution_count": null,
      "id": "d81793d2",
      "metadata": {
        "id": "d81793d2"
      },
      "outputs": [],
      "source": [
        "#image show (grayscale)\n",
        "cv2.imshow(\"Grayscale_image\",img); cv2.waitKey(0); cv2.destroyAllWindows()"
      ]
    },
    {
      "cell_type": "markdown",
      "id": "8d0ec127",
      "metadata": {
        "id": "8d0ec127"
      },
      "source": [
        "Grayscale edilmiş görsele bakılır."
      ]
    },
    {
      "cell_type": "code",
      "execution_count": null,
      "id": "a72dbdeb",
      "metadata": {
        "id": "a72dbdeb",
        "outputId": "ae0cc627-5d1d-4b19-e8eb-40e670b67e93"
      },
      "outputs": [
        {
          "name": "stdout",
          "output_type": "stream",
          "text": [
            "Görselin boyutu (512, 512, 3)\n"
          ]
        }
      ],
      "source": [
        "#image show (rgb)\n",
        "img = cv2.imread(r\"C:\\Users\\ilhan\\Desktop\\test_image.png\")\n",
        "print(\"Görselin boyutu\",img.shape)\n",
        "cv2.imshow(\"Grayscale_image\",img); cv2.waitKey(0); cv2.destroyAllWindows()"
      ]
    },
    {
      "cell_type": "markdown",
      "id": "6906a8bc",
      "metadata": {
        "id": "6906a8bc"
      },
      "source": [
        "Aynı görsele renkli bir şekilde bakılmıştır.\n",
        "\n",
        "Görsel rgb (red,green,blue) olmak üzere 3 kanaldan oluştuğu için 3 yazar.\n",
        "\n",
        "Yani aslında 512x512 boyutundaki görsel 3 kanal için de vardır."
      ]
    },
    {
      "cell_type": "code",
      "execution_count": null,
      "id": "284c6d9f",
      "metadata": {
        "id": "284c6d9f",
        "outputId": "64a87f9d-2a37-4ed1-e39e-de3522809e9a"
      },
      "outputs": [
        {
          "name": "stdout",
          "output_type": "stream",
          "text": [
            "Yeniden Boyutlandırılmış Görsel Boyutu: (700, 700, 3)\n"
          ]
        }
      ],
      "source": [
        "#image resize\n",
        "img_resized = cv2.resize(img,(700,700))\n",
        "print(\"Yeniden Boyutlandırılmış Görsel Boyutu:\", img_resized.shape)"
      ]
    },
    {
      "cell_type": "markdown",
      "id": "1b0d3fca",
      "metadata": {
        "id": "1b0d3fca"
      },
      "source": [
        "512x512 boyutundaki görsel **resize** methoduyla **yeniden boyutlandırılarak** 700x700 boyutuna getirilmiştir."
      ]
    },
    {
      "cell_type": "code",
      "execution_count": null,
      "id": "d2a53931",
      "metadata": {
        "id": "d2a53931"
      },
      "outputs": [],
      "source": [
        "cv2.imshow(\"Resized Image\",img_resized); cv2.waitKey(0); cv2.destroyAllWindows()"
      ]
    },
    {
      "cell_type": "markdown",
      "id": "f094b6b7",
      "metadata": {
        "id": "f094b6b7"
      },
      "source": [
        "Yeniden boyutlandırılmış görsel gösterilmiştir."
      ]
    },
    {
      "cell_type": "code",
      "execution_count": null,
      "id": "b5ef4ed3",
      "metadata": {
        "id": "b5ef4ed3"
      },
      "outputs": [],
      "source": [
        "img_cropped = img[:200,:300]"
      ]
    },
    {
      "cell_type": "markdown",
      "id": "bcb5c091",
      "metadata": {
        "id": "bcb5c091"
      },
      "source": [
        "Görsel piksellerden oluşur ve bu pikseller bir araya gelerek bir matris oluşturur.\n",
        "\n",
        "Bu matrisin height için ilk 200 pikseli ve width için ilk 300 pikseli alınarak görsel crop edilmiştir."
      ]
    },
    {
      "cell_type": "code",
      "execution_count": null,
      "id": "3c7806ed",
      "metadata": {
        "id": "3c7806ed"
      },
      "outputs": [],
      "source": [
        "cv2.imshow(\"Cropped Image\",img_cropped); cv2.waitKey(0); cv2.destroyAllWindows()"
      ]
    },
    {
      "cell_type": "markdown",
      "source": [
        "Crop edilen görsel imshow parametresiyle gösterilir."
      ],
      "metadata": {
        "id": "pSSOVqh0Sy7U"
      },
      "id": "pSSOVqh0Sy7U"
    }
  ],
  "metadata": {
    "kernelspec": {
      "display_name": "Python 3 (ipykernel)",
      "language": "python",
      "name": "python3"
    },
    "language_info": {
      "codemirror_mode": {
        "name": "ipython",
        "version": 3
      },
      "file_extension": ".py",
      "mimetype": "text/x-python",
      "name": "python",
      "nbconvert_exporter": "python",
      "pygments_lexer": "ipython3",
      "version": "3.9.12"
    },
    "colab": {
      "provenance": []
    }
  },
  "nbformat": 4,
  "nbformat_minor": 5
}