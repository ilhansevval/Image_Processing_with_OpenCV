{
  "cells": [
    {
      "cell_type": "markdown",
      "id": "49d436d3",
      "metadata": {
        "id": "49d436d3"
      },
      "source": [
        "# **Kamera Açma ve Video Kaydı**"
      ]
    },
    {
      "cell_type": "markdown",
      "id": "5fbdb5e6",
      "metadata": {
        "id": "5fbdb5e6"
      },
      "source": [
        "Bu konu veri toplama açısından önemlidir."
      ]
    },
    {
      "cell_type": "code",
      "execution_count": null,
      "id": "511dff21",
      "metadata": {
        "id": "511dff21"
      },
      "outputs": [],
      "source": [
        "import cv2"
      ]
    },
    {
      "cell_type": "code",
      "execution_count": null,
      "id": "4c8186b7",
      "metadata": {
        "id": "4c8186b7"
      },
      "outputs": [],
      "source": [
        "#capture\n",
        "cap = cv2.VideoCapture(0)"
      ]
    },
    {
      "cell_type": "markdown",
      "id": "707b0988",
      "metadata": {
        "id": "707b0988"
      },
      "source": [
        "VideoCapture methodunun içerisinde yer alan parametre dahili ya da harici kameraları belirlemek için kullanılır.\n",
        "\n",
        "Bilgisayarın kamerasını kullanmak için 0, harici kamerayı kullanmak için 1 kullanılır."
      ]
    },
    {
      "cell_type": "code",
      "execution_count": null,
      "id": "ec575558",
      "metadata": {
        "id": "ec575558",
        "outputId": "61762859-c234-4a35-e4a3-e2b910e66845"
      },
      "outputs": [
        {
          "name": "stdout",
          "output_type": "stream",
          "text": [
            "640 480\n"
          ]
        }
      ],
      "source": [
        "width = int(cap.get(cv2.CAP_PROP_FRAME_WIDTH))\n",
        "height = int(cap.get(cv2.CAP_PROP_FRAME_HEIGHT))\n",
        "print(width,height)"
      ]
    },
    {
      "cell_type": "code",
      "execution_count": null,
      "id": "acd028ed",
      "metadata": {
        "id": "acd028ed",
        "outputId": "5038c901-5c84-49d9-b317-acfa5a3463f3"
      },
      "outputs": [
        {
          "name": "stdout",
          "output_type": "stream",
          "text": [
            "Piksel sayısı:  307200\n"
          ]
        }
      ],
      "source": [
        "print(\"Piksel sayısı: \",width*height)"
      ]
    },
    {
      "cell_type": "markdown",
      "id": "78aa99ef",
      "metadata": {
        "id": "78aa99ef"
      },
      "source": [
        "307200 piksel bulunmaktadır."
      ]
    },
    {
      "cell_type": "code",
      "execution_count": null,
      "id": "61ca351a",
      "metadata": {
        "id": "61ca351a"
      },
      "outputs": [],
      "source": [
        "#video kaydetme\n",
        "writer = cv2.VideoWriter(\"video_kaydi.mp4\",cv2.VideoWriter_fourcc(*\"DIVX\"),20,(width,height))"
      ]
    },
    {
      "cell_type": "markdown",
      "id": "1c31f3de",
      "metadata": {
        "id": "1c31f3de"
      },
      "source": [
        "Frameler tek tek okunmadan önce video kaydedici başlatılır.\n",
        "\n",
        "Frameler okunup ekranda görselleştirildikçe aynı zamanda video kaydediciye kaydedilecektir.\n",
        "\n",
        "fourcc frameleri sıkıştırmak için kullanılan 4 karakterli codec kodudur.\n",
        "\n",
        "20 değeri (frame per second) her saniyede gösterilecek frame sayısıdır. "
      ]
    },
    {
      "cell_type": "code",
      "execution_count": null,
      "id": "ead2d2ad",
      "metadata": {
        "id": "ead2d2ad"
      },
      "outputs": [],
      "source": [
        "#read\n",
        "while True:\n",
        "    ret,frame = cap.read()\n",
        "    \n",
        "    #save\n",
        "    writer.write(frame)\n",
        "    \n",
        "    if ret == True:\n",
        "\n",
        "        cv2.imshow(\"Video\",frame)\n",
        "        \n",
        "    else: break\n",
        "        \n",
        "    if cv2.waitKey(1) & 0xFF == ord(\"q\"): break\n",
        "\n",
        "cap.release()\n",
        "writer.release()\n",
        "cv2.destroyAllWindows()"
      ]
    },
    {
      "cell_type": "markdown",
      "id": "953282f0",
      "metadata": {
        "id": "953282f0"
      },
      "source": [
        "Kameradan görüntü geldiği sürece kaydetme işlemi devam eder.\n",
        "\n",
        "Klavyeden q tuşuna basıldığında video kapatılır.\n",
        "\n",
        "while döngüsü bittikten sonra release methoduyla frame yakalama işlemi sona erer ve video kaydı sonlanır.\n",
        "\n",
        "destroyAllWindows methoduyla tüm pencereler kapatılır."
      ]
    }
  ],
  "metadata": {
    "kernelspec": {
      "display_name": "Python 3 (ipykernel)",
      "language": "python",
      "name": "python3"
    },
    "language_info": {
      "codemirror_mode": {
        "name": "ipython",
        "version": 3
      },
      "file_extension": ".py",
      "mimetype": "text/x-python",
      "name": "python",
      "nbconvert_exporter": "python",
      "pygments_lexer": "ipython3",
      "version": "3.9.12"
    },
    "colab": {
      "provenance": []
    }
  },
  "nbformat": 4,
  "nbformat_minor": 5
}