{
  "cells": [
    {
      "cell_type": "markdown",
      "id": "ecb167b0",
      "metadata": {
        "id": "ecb167b0"
      },
      "source": [
        "# **Video İçe Aktrama**"
      ]
    },
    {
      "cell_type": "markdown",
      "id": "4c46fb25",
      "metadata": {
        "id": "4c46fb25"
      },
      "source": [
        "Videonun nasıl okunacağı, nasıl gösterileceği ve boyutuna nasıl bakılacağından bahsedilecektir.\n",
        "\n",
        "Videolar görsellerin belirli periyotlarla art arda sıralanmasıyla oluşan yapılardır.\n",
        "\n",
        "Video içe aktarma ile aslında görseller içeri aktarılır ve art arda hızlı bir şekilde oynatılınca video olmuş olur."
      ]
    },
    {
      "cell_type": "code",
      "execution_count": null,
      "id": "42f5e309",
      "metadata": {
        "id": "42f5e309"
      },
      "outputs": [],
      "source": [
        "import cv2\n",
        "\n",
        "import time"
      ]
    },
    {
      "cell_type": "markdown",
      "id": "e89f2a90",
      "metadata": {
        "id": "e89f2a90"
      },
      "source": [
        "video içeri aktarma capture olarak geçer ve genelde cap olarak kısaltılır."
      ]
    },
    {
      "cell_type": "code",
      "execution_count": null,
      "id": "10674cec",
      "metadata": {
        "id": "10674cec"
      },
      "outputs": [],
      "source": [
        "#video içeri aktarma\n",
        "cap = cv2.VideoCapture(r\"C:\\Users\\ilhan\\Desktop\\MOT17-04-DPM.mp4\")"
      ]
    },
    {
      "cell_type": "markdown",
      "id": "dcf34968",
      "metadata": {
        "id": "dcf34968"
      },
      "source": [
        "VideoCapture methodu içerisine yazılan adresteki videoyu içeri aktararak bir değişkene eşitler."
      ]
    },
    {
      "cell_type": "code",
      "execution_count": null,
      "id": "bab8663c",
      "metadata": {
        "id": "bab8663c",
        "outputId": "0c787b3f-14cc-4eaf-f8fc-81e6ced6d2ae"
      },
      "outputs": [
        {
          "data": {
            "text/plain": [
              "< cv2.VideoCapture 0000021F45B41BF0>"
            ]
          },
          "execution_count": 14,
          "metadata": {},
          "output_type": "execute_result"
        }
      ],
      "source": [
        "cap"
      ]
    },
    {
      "cell_type": "code",
      "execution_count": null,
      "id": "6644beda",
      "metadata": {
        "id": "6644beda",
        "outputId": "f3453da5-b224-498e-ed66-19418f811831"
      },
      "outputs": [
        {
          "name": "stdout",
          "output_type": "stream",
          "text": [
            "Genişlik: 1920.0\n"
          ]
        }
      ],
      "source": [
        "print(\"Genişlik:\",cap.get(3))"
      ]
    },
    {
      "cell_type": "markdown",
      "id": "7eb856ab",
      "metadata": {
        "id": "7eb856ab"
      },
      "source": [
        "get methodunun 3. indeksi uygulandığında videonun genişliği elde edilir."
      ]
    },
    {
      "cell_type": "code",
      "execution_count": null,
      "id": "76ab172d",
      "metadata": {
        "id": "76ab172d",
        "outputId": "63a75e9e-d78c-471e-a2c9-570c5f6dbdc0"
      },
      "outputs": [
        {
          "name": "stdout",
          "output_type": "stream",
          "text": [
            "Yükseklik: 1080.0\n"
          ]
        }
      ],
      "source": [
        "print(\"Yükseklik:\",cap.get(4))"
      ]
    },
    {
      "cell_type": "markdown",
      "id": "444248d2",
      "metadata": {
        "id": "444248d2"
      },
      "source": [
        "get methodunun 4. indeksinde de yükseklik bulunmaktadır."
      ]
    },
    {
      "cell_type": "markdown",
      "id": "9b09a620",
      "metadata": {
        "id": "9b09a620"
      },
      "source": [
        "Bu durumda video 1920x1080 piksellerden oluşur."
      ]
    },
    {
      "cell_type": "markdown",
      "id": "0aeb15c9",
      "metadata": {
        "id": "0aeb15c9"
      },
      "source": [
        "Video cap değişkenine yüklenmiştir ama açılıp açılmadığı bilinmemektedir.\n",
        "\n",
        "Eğer video açılmadıysa bir hata döndürülecektir."
      ]
    },
    {
      "cell_type": "code",
      "execution_count": null,
      "id": "fd2b112f",
      "metadata": {
        "id": "fd2b112f"
      },
      "outputs": [],
      "source": [
        "if cap.isOpened() == False:\n",
        "    print(\"Video Açılmadı!\")"
      ]
    },
    {
      "cell_type": "markdown",
      "id": "df905863",
      "metadata": {
        "id": "df905863"
      },
      "source": [
        "Bir hata döndürülmediği için videonun içe aktarılma işlemi başarıyla sonuçlanmıştır."
      ]
    },
    {
      "cell_type": "code",
      "execution_count": null,
      "id": "034290ed",
      "metadata": {
        "id": "034290ed"
      },
      "outputs": [],
      "source": [
        "#video okuma\n",
        "while True:\n",
        "    \n",
        "    ret, frame = cap.read()\n",
        "\n",
        "    if ret == True:\n",
        "\n",
        "        time.sleep(0.01) #kullanılmazsa video çok hızlı ilerler.\n",
        "\n",
        "        cv2.imshow(\"Video\",frame)\n",
        "        \n",
        "    else: break\n",
        "        \n",
        "    if cv2.waitKey(1) & 0xFF == ord(\"q\"):\n",
        "        break\n",
        "        \n",
        "cap.release()\n",
        "\n",
        "cv2.destroyAllWindows()"
      ]
    },
    {
      "cell_type": "markdown",
      "id": "44097655",
      "metadata": {
        "id": "44097655"
      },
      "source": [
        "read methodu **return** ve **frame** olarak iki değişken döndürür.\n",
        "\n",
        "**frame video içerisinde bulunan her bir görseldir.**\n",
        "\n",
        "**return ise bu işlemin başarılı olup olmadığıdır.**\n",
        "\n",
        "Eğer read işlemi başarısız olduysa return false döner ve böylelikle okuma işleminin gerçekleştirilemediği anlaşılır.\n",
        "\n",
        "frameler görseller olduğu için art arda çok hızlı oynayacağından video anlaşılmayacaktır.\n",
        "\n",
        "Bu nedenle **time.sleep methoduyla yavaşlatılır**, 10 milisaniye aralıklarla oynatılacaktır.\n",
        "\n",
        "**imshow** parametresiyle ile de **frameler** görselleştirilir.\n",
        "\n",
        "**while ile bu işlem bir döngü haline getirilerek video oluşturulur.**\n",
        "\n",
        "Bu işlem read işleminden herhangi bir frame return edilmeyene kadar devam eder.\n",
        "\n",
        "read işlemi bittiğinde döngüden çıkılarak işlem sonlanır.\n",
        "\n",
        "**waitkey ile 1 ms'de herhangi bir sonlandırma işlemi yapılıp yapılmadığı kontrol edilir.**\n",
        "\n",
        "Eğer klavyeden q tuşuna basılırsa while döngüsü kırılarak videodan çıkılır.\n",
        "\n",
        "while döngüsü bittikten sonra **release** methoduyla **capture işlemi sona erer.**\n",
        "\n",
        "En son olarak **destroyAllWindows** methoduyla **açık pencereler kapatılır.**"
      ]
    }
  ],
  "metadata": {
    "kernelspec": {
      "display_name": "Python 3 (ipykernel)",
      "language": "python",
      "name": "python3"
    },
    "language_info": {
      "codemirror_mode": {
        "name": "ipython",
        "version": 3
      },
      "file_extension": ".py",
      "mimetype": "text/x-python",
      "name": "python",
      "nbconvert_exporter": "python",
      "pygments_lexer": "ipython3",
      "version": "3.9.12"
    },
    "colab": {
      "provenance": []
    }
  },
  "nbformat": 4,
  "nbformat_minor": 5
}