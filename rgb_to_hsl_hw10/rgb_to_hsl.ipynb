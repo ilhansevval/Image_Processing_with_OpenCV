{
 "cells": [
  {
   "cell_type": "code",
   "execution_count": 5,
   "id": "f3127974",
   "metadata": {},
   "outputs": [],
   "source": [
    "from PIL import Image\n",
    "\n",
    "def rgb_to_hsl(rgb):\n",
    "    r, g, b = rgb[0] / 255.0, rgb[1] / 255.0, rgb[2] / 255.0\n",
    "    cmax = max(r, g, b)\n",
    "    cmin = min(r, g, b)\n",
    "    diff = cmax - cmin\n",
    "    h = 0\n",
    "    s = 0\n",
    "    l = (cmax + cmin) / 2\n",
    "    if diff != 0:\n",
    "        if cmax == r:\n",
    "            h = (g - b) / diff\n",
    "        elif cmax == g:\n",
    "            h = (b - r) / diff + 2\n",
    "        elif cmax == b:\n",
    "            h = (r - g) / diff + 4\n",
    "        h *= 60\n",
    "        if h < 0:\n",
    "            h += 360\n",
    "        s = diff / (1 - abs(2 * l - 1))\n",
    "    return h, s, l\n",
    "\n",
    "def convert_image_to_hsl(image):\n",
    "    image = image.convert(\"RGB\")\n",
    "    hsl_image = Image.new(\"RGB\", image.size)\n",
    "    pixels = image.load()\n",
    "    hsl_pixels = hsl_image.load()\n",
    "    for x in range(image.width):\n",
    "        for y in range(image.height):\n",
    "            h, s, l = rgb_to_hsl(pixels[x, y])\n",
    "            hsl_pixels[x, y] = (int(h), int(s * 255), int(l * 255))\n",
    "    return hsl_image\n",
    "\n",
    "# Example usage:\n",
    "image = Image.open(r\"C:\\Users\\ilhan\\Desktop\\gray_img.png\")\n",
    "hsl_image = convert_image_to_hsl(image)\n",
    "hsl_image.save(\"image_hsl.jpg\")"
   ]
  }
 ],
 "metadata": {
  "kernelspec": {
   "display_name": "Python 3 (ipykernel)",
   "language": "python",
   "name": "python3"
  },
  "language_info": {
   "codemirror_mode": {
    "name": "ipython",
    "version": 3
   },
   "file_extension": ".py",
   "mimetype": "text/x-python",
   "name": "python",
   "nbconvert_exporter": "python",
   "pygments_lexer": "ipython3",
   "version": "3.9.12"
  }
 },
 "nbformat": 4,
 "nbformat_minor": 5
}
