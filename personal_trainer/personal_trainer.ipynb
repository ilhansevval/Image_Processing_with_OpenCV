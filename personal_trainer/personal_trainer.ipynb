{
 "cells": [
  {
   "cell_type": "markdown",
   "id": "8b4e48f9",
   "metadata": {},
   "source": [
    "# **Personal Trainer**"
   ]
  },
  {
   "cell_type": "markdown",
   "id": "be70b138",
   "metadata": {},
   "source": [
    "Bu projede antremanda yapılan tekrar sayıları sayılacaktır.\n",
    "\n",
    "İki video üzerinden çalışma gerçekleştirilecektir.\n",
    "\n",
    "Birinci videoda kaç şınav çekildiği hesaplanırken el, dirsek, omuz arasındaki açıdan yararlanılacaktır.\n",
    "\n",
    "İkinci videoda bacak çekme hareketinde kaç tekrar olduğunun anlaşılması için ayak bileği, diz, kalça arasındaki açıdan yararlanılacaktır.\n",
    "\n",
    "3 nokta kullanılarak açı hesabı yapılacaktır."
   ]
  },
  {
   "cell_type": "code",
   "execution_count": 1,
   "id": "9e1863ad",
   "metadata": {},
   "outputs": [],
   "source": [
    "import cv2\n",
    "import mediapipe as mp\n",
    "import numpy as np\n",
    "import math"
   ]
  },
  {
   "cell_type": "code",
   "execution_count": 2,
   "id": "7fc9a072",
   "metadata": {},
   "outputs": [],
   "source": [
    "media_pipe_Pose = mp.solutions.pose"
   ]
  },
  {
   "cell_type": "markdown",
   "id": "caade5b7",
   "metadata": {},
   "source": [
    "pose modülü çağırılarak media_pipe_Pose objesi yaratılmıştır."
   ]
  },
  {
   "cell_type": "code",
   "execution_count": 3,
   "id": "fe430c7c",
   "metadata": {},
   "outputs": [],
   "source": [
    "pose = media_pipe_Pose.Pose()"
   ]
  },
  {
   "cell_type": "markdown",
   "id": "f68edf5b",
   "metadata": {},
   "source": [
    "media_pipe_Pose objesinden Pose methodu pose değişkenine aktarılmıştır."
   ]
  },
  {
   "cell_type": "code",
   "execution_count": 4,
   "id": "95d8c4de",
   "metadata": {},
   "outputs": [],
   "source": [
    "media_pipe_draw = mp.solutions.drawing_utils"
   ]
  },
  {
   "cell_type": "code",
   "execution_count": 5,
   "id": "6a41f397",
   "metadata": {},
   "outputs": [],
   "source": [
    "#video capture\n",
    "capture = cv2.VideoCapture(r\"C:\\Users\\ilhan\\Desktop\\video2.mp4\")"
   ]
  },
  {
   "cell_type": "markdown",
   "id": "cd67f010",
   "metadata": {},
   "source": [
    "drawing_utils ile insan üzerindeki iskelet görüntüsü elde edilir."
   ]
  },
  {
   "cell_type": "code",
   "execution_count": 6,
   "id": "c3ec07a7",
   "metadata": {},
   "outputs": [],
   "source": [
    "def findAngle(frame, p1, p2, p3, lm_list, draw = True):\n",
    "    x1, y1 = lm_list[p1][1:] #lm_list 3 nokta verir (zxy). 1'den başlandığında x,y alınır. \n",
    "    x2, y2 = lm_list[p2][1:]\n",
    "    x3, y3 = lm_list[p3][1:]\n",
    "    \n",
    "    #açı hesaplama\n",
    "    angle = math.degrees(math.atan2(y3 - y2, x3 - x2) - math.atan2(y1 - y2, x1 - x2))\n",
    "    \n",
    "    if angle < 0:\n",
    "        angle += 360\n",
    "        \n",
    "    if draw:\n",
    "        \n",
    "        cv2.line(frame, (x1,y1), (x2,y2), (0,0,255), 3)\n",
    "        cv2.line(frame, (x3,y3), (x2,y2), (0,0,255), 3)\n",
    "        #dikkat edilmesi gereken nokta, x2 ortada olmalıdır.\n",
    "        \n",
    "        #içi dolu circle\n",
    "        cv2.circle(frame, (x1,y1), 10, (0,255,255), cv2.FILLED)\n",
    "        cv2.circle(frame, (x2,y2), 10, (0,255,255), cv2.FILLED)\n",
    "        cv2.circle(frame, (x3,y3), 10, (0,255,255), cv2.FILLED)\n",
    "        \n",
    "        #içi boş circle\n",
    "        cv2.circle(frame, (x1,y1), 15, (0,255,255), cv2.FILLED)\n",
    "        cv2.circle(frame, (x2,y2), 15, (0,255,255), cv2.FILLED)\n",
    "        cv2.circle(frame, (x3,y3), 15, (0,255,255), cv2.FILLED)\n",
    "        \n",
    "        cv2.putText(frame, str(int(angle)), (x2 - 40, y2 - 40),cv2.FONT_HERSHEY_PLAIN, 2, (0,255,255), 2)\n",
    "        \n",
    "    return angle"
   ]
  },
  {
   "cell_type": "code",
   "execution_count": 7,
   "id": "4a06676f",
   "metadata": {},
   "outputs": [],
   "source": [
    "dir = 0   #hareketin bitip bitmediği kontrol edilecektir.\n",
    "count = 0 #hareketin sayımı gerçekleştirilir.\n",
    "\n",
    "#video read\n",
    "while True:\n",
    "    ret, frame = capture.read()\n",
    "    \n",
    "    if ret == True:\n",
    "        \n",
    "        #converting bgr to rgb format\n",
    "        imgRGB = cv2.cvtColor(frame, cv2.COLOR_BGR2RGB)\n",
    "        \n",
    "        result = pose.process(imgRGB) #mediapipe'ta görüntü işlenir.\n",
    "        #print(result.pose_landmarks)\n",
    "        #result, kamerada vücut göründüğünde, eklemlerin x,y,z koordinatlarını gösterir.\n",
    "        \n",
    "        lm_list = []\n",
    "        \n",
    "        if result.pose_landmarks:\n",
    "            media_pipe_draw.draw_landmarks(frame, result.pose_landmarks, media_pipe_Pose.POSE_CONNECTIONS)\n",
    "            #draw_landmarks parametresi ile iskelet yapısı çizdirilir.\n",
    "            \n",
    "            for id, lm in enumerate(result.pose_landmarks.landmark):\n",
    "                h, w, color = frame.shape\n",
    "                cx, cy = int(lm.x*w), int(lm.y*h)\n",
    "                lm_list.append([id,cx,cy])\n",
    "        #print(lm_list)\n",
    "        \n",
    "        if lm_list != 0:\n",
    "            \n",
    "            #şınav\n",
    "            \n",
    "            #angle = findAngle(frame, 11, 13, 15, lm_list)\n",
    "            #per = np.interp(angle, (185, 245), (0, 100))\n",
    "            #print(angle)\n",
    "            \n",
    "            #lm_list içerisindeki ilgili noktaların koordinatları bulunacaktır.\n",
    "            #bu koordinatlar kullanılarak açı hesaplanacaktır.\n",
    "            \n",
    "            #bacak çekme\n",
    "            \n",
    "            angle = findAngle(frame, 23, 25, 27, lm_list)\n",
    "            per = np.interp(angle, (77, 145), (0, 100))\n",
    "            \n",
    "            if per == 100:\n",
    "                if dir == 0:\n",
    "                    count += 0.5\n",
    "                    dir = 1\n",
    "            if per == 0:\n",
    "                if dir == 1:\n",
    "                    count += 0.5\n",
    "                    dir = 0  \n",
    "                \n",
    "            #print(count)\n",
    "                    \n",
    "            cv2.putText(frame, str(int(count)), (45,125), cv2.FONT_HERSHEY_PLAIN, 10, (255,0,0), 10)\n",
    "        \n",
    "        cv2.imshow('Pose Estimation',frame)\n",
    "        \n",
    "        if cv2.waitKey(50) & 0xFF == ord('q'):\n",
    "            break\n",
    "\n",
    "    else:\n",
    "        break\n",
    "        \n",
    "capture.release()\n",
    "cv2.destroyAllWindows()"
   ]
  }
 ],
 "metadata": {
  "kernelspec": {
   "display_name": "Python 3 (ipykernel)",
   "language": "python",
   "name": "python3"
  },
  "language_info": {
   "codemirror_mode": {
    "name": "ipython",
    "version": 3
   },
   "file_extension": ".py",
   "mimetype": "text/x-python",
   "name": "python",
   "nbconvert_exporter": "python",
   "pygments_lexer": "ipython3",
   "version": "3.9.12"
  }
 },
 "nbformat": 4,
 "nbformat_minor": 5
}
