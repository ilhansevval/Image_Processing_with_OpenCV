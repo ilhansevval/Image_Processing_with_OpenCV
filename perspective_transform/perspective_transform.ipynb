{
  "cells": [
    {
      "cell_type": "markdown",
      "id": "0db212ff",
      "metadata": {
        "id": "0db212ff"
      },
      "source": [
        "# **Perspektif Çarpıtma**"
      ]
    },
    {
      "cell_type": "markdown",
      "id": "e46641f2",
      "metadata": {
        "id": "e46641f2"
      },
      "source": [
        "Yamuk bir nesne görüldüğü zaman bu nesnenin ne olduğu insan beyni tarafından algılanıp kolaylıkla tespit edilebilir.\n",
        "\n",
        "Ancak görüntü işlemede bir algoritma nesneyi düz haliyle öğrenirse açıları değiştirilmiş bir nesne geldiğinde bunun tespitini yapamayabilir.\n",
        "\n",
        "Bu nedenle görüntü işlemede veriseti oluşturulurken farklı perspektiflerden veri eklemek gerekir.\n",
        "\n",
        "Örnek vermek gerekirse bir nesne 10'ar derece döndürülerek verisetine eklenirse nesne tespiti, takibi ya da sınıflandırma algoritmaları nesneyi tespit edebilir, takip edebilir ya da bir nesne olarak sınıflandırabilir.\n",
        "\n",
        "Bu nedenle görsellerin perspektifini değiştirmek, nasıl değiştirildiğini bilmek oldukça önemlidir."
      ]
    },
    {
      "cell_type": "code",
      "execution_count": null,
      "id": "44be8318",
      "metadata": {
        "id": "44be8318"
      },
      "outputs": [],
      "source": [
        "import cv2\n",
        "import numpy as np"
      ]
    },
    {
      "cell_type": "code",
      "execution_count": null,
      "id": "77375328",
      "metadata": {
        "id": "77375328"
      },
      "outputs": [],
      "source": [
        "#read image\n",
        "img = cv2.imread(r\"C:\\Users\\ilhan\\Desktop\\kart.png\")"
      ]
    },
    {
      "cell_type": "code",
      "execution_count": null,
      "id": "5c768c8b",
      "metadata": {
        "id": "5c768c8b"
      },
      "outputs": [],
      "source": [
        "#show image\n",
        "cv2.imshow(\"Orijinal Gorsel\",img); cv2.waitKey(0); cv2.destroyAllWindows();"
      ]
    },
    {
      "cell_type": "markdown",
      "id": "47029fa0",
      "metadata": {
        "id": "47029fa0"
      },
      "source": [
        "Orijinal görsele bakıldığında yamuk bir şekilde durduğu görülür.\n",
        "\n",
        "Bu görseli döndürmek için öncelikle görselin köşelerinin piksel değerlerinin tespit edilmesi gereklidir.\n",
        "\n",
        "Bunun için görselin boyutu bilinmelidir."
      ]
    },
    {
      "cell_type": "code",
      "execution_count": null,
      "id": "4828f9f9",
      "metadata": {
        "id": "4828f9f9",
        "outputId": "c33826fd-679f-48cd-fe97-469d970cffa0"
      },
      "outputs": [
        {
          "name": "stdout",
          "output_type": "stream",
          "text": [
            "Görselin boyutu:  (620, 544, 3)\n"
          ]
        }
      ],
      "source": [
        "print(\"Görselin boyutu: \",img.shape)"
      ]
    },
    {
      "cell_type": "markdown",
      "id": "965baa4e",
      "metadata": {
        "id": "965baa4e"
      },
      "source": [
        "620x544 boyutunda rgb formatında bir görsel olduğu anlaşılır."
      ]
    },
    {
      "cell_type": "code",
      "execution_count": null,
      "id": "88f1a92b",
      "metadata": {
        "id": "88f1a92b"
      },
      "outputs": [],
      "source": [
        "width = 400\n",
        "height = 500"
      ]
    },
    {
      "cell_type": "markdown",
      "id": "90c08f59",
      "metadata": {
        "id": "90c08f59"
      },
      "source": [
        "Görselin köşelerinin piksel değerleri bir float matrisinin içerisine depolanır.\n",
        "\n",
        "Bu değerler point1 değerleridir.\n",
        "\n",
        "Point2 değerleri ise görselin döndürmek istendiği köşelerin piksel değerleridir."
      ]
    },
    {
      "cell_type": "code",
      "execution_count": null,
      "id": "0b5b9258",
      "metadata": {
        "id": "0b5b9258"
      },
      "outputs": [],
      "source": [
        "points1 = np.float32([[203,1],[1,472],[540,150],[338,617]])\n",
        "points2 = np.float32([[0,0],[0,height],[width,0],[width,height]])"
      ]
    },
    {
      "cell_type": "code",
      "execution_count": null,
      "id": "6ab26dc9",
      "metadata": {
        "id": "6ab26dc9"
      },
      "outputs": [],
      "source": [
        "matrix = cv2.getPerspectiveTransform(points1,points2)"
      ]
    },
    {
      "cell_type": "markdown",
      "id": "3a8081cf",
      "metadata": {
        "id": "3a8081cf"
      },
      "source": [
        "İki nokta verildikten sonra birinci noktadan ikinci noktaya geçebilmek için gerekli olan transform matrisi getPerspectiveTransform methoduyla otomatik bir şekilde oluşturulur."
      ]
    },
    {
      "cell_type": "code",
      "execution_count": null,
      "id": "db71b496",
      "metadata": {
        "id": "db71b496",
        "outputId": "cfc81c1c-81e1-423a-aca1-05e5354b4ae2"
      },
      "outputs": [
        {
          "name": "stdout",
          "output_type": "stream",
          "text": [
            "[[ 9.87676881e-01  4.23589660e-01 -2.00921997e+02]\n",
            " [-3.91687206e-01  8.85896566e-01  7.86266062e+01]\n",
            " [-1.44400225e-05 -1.53164479e-05  1.00000000e+00]]\n"
          ]
        }
      ],
      "source": [
        "print(matrix)"
      ]
    },
    {
      "cell_type": "markdown",
      "id": "fc58ffb2",
      "metadata": {
        "id": "fc58ffb2"
      },
      "source": [
        "3x3 boyutundaki matris transform matrisidir."
      ]
    },
    {
      "cell_type": "code",
      "execution_count": null,
      "id": "def9c82b",
      "metadata": {
        "id": "def9c82b"
      },
      "outputs": [],
      "source": [
        "#wrap image\n",
        "img_output = cv2.warpPerspective(img, matrix, (width,height))"
      ]
    },
    {
      "cell_type": "markdown",
      "id": "f385a67f",
      "metadata": {
        "id": "f385a67f"
      },
      "source": [
        "Çevirme işlemi warpPerspective methoduyla yapılır.\n",
        "\n",
        "Bu method içerisine görseli, rotasyon matrisini ve elde edilmek istenen çıktının boyutu alınır."
      ]
    },
    {
      "cell_type": "code",
      "execution_count": null,
      "id": "290582b0",
      "metadata": {
        "id": "290582b0"
      },
      "outputs": [],
      "source": [
        "#show image\n",
        "cv2.imshow(\"Donusturulmus Gorsel\",img_output); cv2.waitKey(0); cv2.destroyAllWindows();"
      ]
    },
    {
      "cell_type": "markdown",
      "id": "d2e86316",
      "metadata": {
        "id": "d2e86316"
      },
      "source": [
        "Elde edilen görsel, sola yatık bir şekilde duran orijinal görselin düz forma getirilmesidir."
      ]
    }
  ],
  "metadata": {
    "kernelspec": {
      "display_name": "Python 3 (ipykernel)",
      "language": "python",
      "name": "python3"
    },
    "language_info": {
      "codemirror_mode": {
        "name": "ipython",
        "version": 3
      },
      "file_extension": ".py",
      "mimetype": "text/x-python",
      "name": "python",
      "nbconvert_exporter": "python",
      "pygments_lexer": "ipython3",
      "version": "3.9.12"
    },
    "colab": {
      "provenance": []
    }
  },
  "nbformat": 4,
  "nbformat_minor": 5
}