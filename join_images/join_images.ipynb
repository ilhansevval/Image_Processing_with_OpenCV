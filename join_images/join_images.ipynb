{
  "cells": [
    {
      "cell_type": "markdown",
      "id": "50f0b843",
      "metadata": {
        "id": "50f0b843"
      },
      "source": [
        "# **Görüntülerin Birleştirilmesi**"
      ]
    },
    {
      "cell_type": "markdown",
      "id": "0a193233",
      "metadata": {
        "id": "0a193233"
      },
      "source": [
        "Görüntülerin birleştirilmesi horizontal ve vertical olmak üzere iki türlüdür."
      ]
    },
    {
      "cell_type": "code",
      "execution_count": null,
      "id": "a6fbfbca",
      "metadata": {
        "id": "a6fbfbca"
      },
      "outputs": [],
      "source": [
        "import cv2\n",
        "import numpy as np"
      ]
    },
    {
      "cell_type": "code",
      "execution_count": null,
      "id": "c56d5b64",
      "metadata": {
        "id": "c56d5b64"
      },
      "outputs": [],
      "source": [
        "#read image\n",
        "img = cv2.imread(r\"C:\\Users\\ilhan\\Desktop\\test_image.png\")"
      ]
    },
    {
      "cell_type": "code",
      "execution_count": null,
      "id": "c9150811",
      "metadata": {
        "id": "c9150811"
      },
      "outputs": [],
      "source": [
        "#show image\n",
        "cv2.imshow(\"Gorsel\",img); cv2.waitKey(0); cv2.destroyAllWindows();"
      ]
    },
    {
      "cell_type": "code",
      "execution_count": null,
      "id": "51719c8d",
      "metadata": {
        "id": "51719c8d"
      },
      "outputs": [],
      "source": [
        "#horizontal join\n",
        "horizontal_join = np.hstack((img,img))"
      ]
    },
    {
      "cell_type": "markdown",
      "id": "33ea416d",
      "metadata": {
        "id": "33ea416d"
      },
      "source": [
        "Görseller piksellerden oluşur ve bu pikseller bir araya gelerek bir array meydana getirir.\n",
        "\n",
        "Bu sebeple numpy kütüphanesinden hstack methodu kullanılarak iki array yan yana birleştirilir."
      ]
    },
    {
      "cell_type": "code",
      "execution_count": null,
      "id": "c34527d9",
      "metadata": {
        "id": "c34527d9"
      },
      "outputs": [],
      "source": [
        "cv2.imshow(\"Horizontally Joined Image\",horizontal_join); cv2.waitKey(0); cv2.destroyAllWindows();"
      ]
    },
    {
      "cell_type": "markdown",
      "id": "719341a3",
      "metadata": {
        "id": "719341a3"
      },
      "source": [
        "Yan yana birleştirilmiş iki görsel gösterilmiştir."
      ]
    },
    {
      "cell_type": "code",
      "execution_count": null,
      "id": "d2f87436",
      "metadata": {
        "id": "d2f87436"
      },
      "outputs": [],
      "source": [
        "#vertical join\n",
        "vertical_join = np.vstack((img,img))\n",
        "cv2.imshow(\"Vertically Joined Image\",vertical_join); cv2.waitKey(0); cv2.destroyAllWindows();"
      ]
    },
    {
      "cell_type": "markdown",
      "id": "d0ea7b50",
      "metadata": {
        "id": "d0ea7b50"
      },
      "source": [
        "Görüntüler dikey bir şekilde birleştirilip gösterilmiştir.\n",
        "\n",
        "Görüntüleri birleştirme nesne  tespiti açısından önemlidir.\n",
        "\n",
        "Örnek vermek gerekirse bir görsel üzerindeki kedi ve köpekler tespit edilmek istendiğinde kedi ve köpek görselleri birleştirilerek nesne tespiti yapılır."
      ]
    }
  ],
  "metadata": {
    "kernelspec": {
      "display_name": "Python 3 (ipykernel)",
      "language": "python",
      "name": "python3"
    },
    "language_info": {
      "codemirror_mode": {
        "name": "ipython",
        "version": 3
      },
      "file_extension": ".py",
      "mimetype": "text/x-python",
      "name": "python",
      "nbconvert_exporter": "python",
      "pygments_lexer": "ipython3",
      "version": "3.9.12"
    },
    "colab": {
      "provenance": []
    }
  },
  "nbformat": 4,
  "nbformat_minor": 5
}