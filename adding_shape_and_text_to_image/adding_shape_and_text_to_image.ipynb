{
 "cells": [
  {
   "cell_type": "markdown",
   "id": "6ad86a48",
   "metadata": {},
   "source": [
    "# **Görüntüye Şekil ve Metin Ekleme**"
   ]
  },
  {
   "cell_type": "markdown",
   "id": "e43e89c4",
   "metadata": {},
   "source": [
    "Nesne tespiti yapıldığında, tespit edilen nesnenin etrafına bir kutu çizilir.\n",
    "\n",
    "Bu nedenle görüntüye şekil eklemek önemlidir."
   ]
  },
  {
   "cell_type": "code",
   "execution_count": 13,
   "id": "0aff8c06",
   "metadata": {},
   "outputs": [],
   "source": [
    "import cv2\n",
    "import numpy as np"
   ]
  },
  {
   "cell_type": "code",
   "execution_count": 14,
   "id": "5b265ea9",
   "metadata": {},
   "outputs": [
    {
     "name": "stdout",
     "output_type": "stream",
     "text": [
      "(512, 512, 3)\n"
     ]
    }
   ],
   "source": [
    "#creating image\n",
    "img = np.zeros((512,512,3),np.uint8) #siyah resim\n",
    "print(img.shape)"
   ]
  },
  {
   "cell_type": "markdown",
   "id": "4691aea1",
   "metadata": {},
   "source": [
    "Piksel değerleri 0-1 arasındadır ve 0'a yaklaştıkça koyulaşır.\n",
    "\n",
    "0'lardan oluşan bir numpy array yaratılarak siyah renkte bir görsel elde edilir. "
   ]
  },
  {
   "cell_type": "code",
   "execution_count": 15,
   "id": "9b1f2aaf",
   "metadata": {},
   "outputs": [],
   "source": [
    "cv2.imshow(\"Black Image\",img); cv2.waitKey(0); cv2.destroyAllWindows();"
   ]
  },
  {
   "cell_type": "markdown",
   "id": "0f36cf34",
   "metadata": {},
   "source": [
    "Oluşturulan siyah görsel imshow parametresiyle gösterilmiştir."
   ]
  },
  {
   "cell_type": "code",
   "execution_count": 16,
   "id": "874500f0",
   "metadata": {},
   "outputs": [],
   "source": [
    "#line\n",
    "#görsel, (çizginin başlangıç noktası), (çizginin bitiş noktası), çizginin rengi, çizginin kalınlığı\n",
    "cv2.line(img,(0,0),(512,512), (0,255,0),3) #BGR = (0,255,0)\n",
    "cv2.imshow(\"Line\",img); cv2.waitKey(0); cv2.destroyAllWindows();"
   ]
  },
  {
   "cell_type": "markdown",
   "id": "b342e473",
   "metadata": {},
   "source": [
    "Görsele line eklenmiştir."
   ]
  },
  {
   "cell_type": "code",
   "execution_count": 18,
   "id": "c6c9da1f",
   "metadata": {},
   "outputs": [],
   "source": [
    "#rectangle\n",
    "#görsel, (başlangıç noktası), (bitiş noktası), renk\n",
    "cv2.rectangle(img, (0,0), (256,256), (255,0,0))\n",
    "cv2.imshow(\"Rectangle\",img); cv2.waitKey(0); cv2.destroyAllWindows;"
   ]
  },
  {
   "cell_type": "code",
   "execution_count": 19,
   "id": "88752bfd",
   "metadata": {},
   "outputs": [],
   "source": [
    "cv2.rectangle(img, (0,0), (256,256), (255,0,0), cv2.FILLED)\n",
    "cv2.imshow(\"Rectangle\",img); cv2.waitKey(0); cv2.destroyAllWindows;"
   ]
  },
  {
   "cell_type": "markdown",
   "id": "21a94fb5",
   "metadata": {},
   "source": [
    "İçi boş ve içi dolu dikdörtgenler gösterilmiştir.\n",
    "\n",
    "Dikdörtgenin içini doldurmak için FILLED parametresi kullanılır."
   ]
  },
  {
   "cell_type": "code",
   "execution_count": 20,
   "id": "8c5c476a",
   "metadata": {},
   "outputs": [],
   "source": [
    "#circle\n",
    "#görsel, çemberin merkezi, çemberin yarıçapı, çemberin rengi, \n",
    "cv2.circle(img, (300,300), 45, (0,0,255))\n",
    "cv2.imshow(\"Circle\",img); cv2.waitKey(0); cv2.destroyAllWindows()"
   ]
  },
  {
   "cell_type": "code",
   "execution_count": 21,
   "id": "17193d0d",
   "metadata": {},
   "outputs": [],
   "source": [
    "cv2.circle(img, (300,300), 45, (0,0,255), cv2.FILLED)\n",
    "cv2.imshow(\"Circle\",img); cv2.waitKey(0); cv2.destroyAllWindows()"
   ]
  },
  {
   "cell_type": "markdown",
   "id": "537b6807",
   "metadata": {},
   "source": [
    "Çemberin dikdörtgen ve çizgiden farklı olarak merkez noktası vardır.\n",
    "\n",
    "İçi boş ve dolu olan circlelar gösterilmiştir."
   ]
  },
  {
   "cell_type": "markdown",
   "id": "972d2e4b",
   "metadata": {},
   "source": [
    "Bir araç takip projesinde aracın merkezine circle koyulduğunda, aracın merkezini görselleştirme imkanı sağlanmış olur."
   ]
  },
  {
   "cell_type": "code",
   "execution_count": 22,
   "id": "305d6bbf",
   "metadata": {},
   "outputs": [],
   "source": [
    "#text\n",
    "#görsel, görsele yazılacak text, text'in konumu, text'in fontu, text'in kalınlığı, text'in rengi\n",
    "cv2.putText(img, \"Image Processing\", (100,100), cv2.FONT_HERSHEY_COMPLEX, 1, (255,255,255))\n",
    "cv2.imshow(\"Text\",img); cv2.waitKey(0); cv2.destroyAllWindows();"
   ]
  },
  {
   "cell_type": "markdown",
   "id": "81250da6",
   "metadata": {},
   "source": [
    "Görsele text eklenerek gösterilmiştir."
   ]
  }
 ],
 "metadata": {
  "kernelspec": {
   "display_name": "Python 3 (ipykernel)",
   "language": "python",
   "name": "python3"
  },
  "language_info": {
   "codemirror_mode": {
    "name": "ipython",
    "version": 3
   },
   "file_extension": ".py",
   "mimetype": "text/x-python",
   "name": "python",
   "nbconvert_exporter": "python",
   "pygments_lexer": "ipython3",
   "version": "3.9.12"
  }
 },
 "nbformat": 4,
 "nbformat_minor": 5
}
